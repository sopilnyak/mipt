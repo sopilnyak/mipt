{
 "cells": [
  {
   "cell_type": "code",
   "execution_count": 1,
   "metadata": {},
   "outputs": [],
   "source": [
    "import numpy as np\n",
    "import re"
   ]
  },
  {
   "cell_type": "code",
   "execution_count": 155,
   "metadata": {},
   "outputs": [],
   "source": [
    "class Trie:\n",
    "    \n",
    "    def __init__(self):\n",
    "        \n",
    "        self.value = None\n",
    "        self.children = {}\n",
    "    \n",
    "    \n",
    "    def __find__(self, word, errors_count, position):\n",
    "        \n",
    "        result = set()\n",
    "                \n",
    "        for letter, node in self.children.items():\n",
    "            \n",
    "            if position < len(word) and letter == word[position]:\n",
    "                result = result | node.__find__(word, errors_count, position + 1)\n",
    "                \n",
    "            else:\n",
    "                if errors_count > 0:\n",
    "                    # insertion\n",
    "                    result = result | node.__find__(word, errors_count - 1, position)\n",
    "                    \n",
    "                    # replacement\n",
    "                    result = result | node.__find__(word, errors_count - 1, position + 1)\n",
    "                    \n",
    "        if errors_count > 0:\n",
    "            \n",
    "            # deletion\n",
    "            result = result | self.__find__(word, errors_count - 1, position + 1)\n",
    "        \n",
    "        if self.value is not None and abs(position - len(word)) <= errors_count:\n",
    "            result.add((self.value, errors_count - abs(position - len(word))))\n",
    "        \n",
    "        return result\n",
    "        \n",
    "        \n",
    "    def insert_word(self, word):\n",
    "        \n",
    "        position = self\n",
    "        \n",
    "        for letter in word:\n",
    "            if letter not in position.children:\n",
    "                position.children[letter] = Trie()\n",
    "                \n",
    "            position = position.children[letter]\n",
    "            \n",
    "        position.value = word\n",
    "        \n",
    "        \n",
    "    def find(self, word, allowed_mistakes_number):\n",
    "        \n",
    "        suggestions = self.__find__(word.lower(), allowed_mistakes_number, 0)\n",
    "        result = [set() for i in range(allowed_mistakes_number + 1)]\n",
    "        \n",
    "        for word, errors in suggestions:\n",
    "            result[allowed_mistakes_number - errors].add(word)\n",
    "            \n",
    "        for current_set in result:\n",
    "            if len(current_set) > 0:\n",
    "                return current_set\n",
    "            \n",
    "        return None"
   ]
  },
  {
   "cell_type": "code",
   "execution_count": 181,
   "metadata": {},
   "outputs": [],
   "source": [
    "with open(\"wp.txt\", \"r\") as f:\n",
    "    text = f.read()"
   ]
  },
  {
   "cell_type": "code",
   "execution_count": 182,
   "metadata": {},
   "outputs": [
    {
     "data": {
      "text/plain": [
       "'Лев Николаевич Толстой\\n\\nВОЙНА И МИР\\n\\nТом 1\\n\\n\\nЧАСТЬ ПЕРВАЯ\\n\\n\\nI\\n\\n\\n\\n\\n– Еh bien, mon prince. Genes et Lu'"
      ]
     },
     "execution_count": 182,
     "metadata": {},
     "output_type": "execute_result"
    }
   ],
   "source": [
    "text[:100]"
   ]
  },
  {
   "cell_type": "code",
   "execution_count": 183,
   "metadata": {},
   "outputs": [],
   "source": [
    "def text_to_wordlist(sentence):\n",
    "    regexp = \"[^а-яА-Яё]\"\n",
    "    sentence = re.sub(regexp, \" \", sentence)\n",
    "    return sentence.lower().split()"
   ]
  },
  {
   "cell_type": "code",
   "execution_count": 184,
   "metadata": {},
   "outputs": [
    {
     "data": {
      "text/plain": [
       "['лев',\n",
       " 'николаевич',\n",
       " 'толстой',\n",
       " 'война',\n",
       " 'и',\n",
       " 'мир',\n",
       " 'том',\n",
       " 'часть',\n",
       " 'первая',\n",
       " 'е']"
      ]
     },
     "execution_count": 184,
     "metadata": {},
     "output_type": "execute_result"
    }
   ],
   "source": [
    "text = text_to_wordlist(text)\n",
    "text[:10]"
   ]
  },
  {
   "cell_type": "code",
   "execution_count": 185,
   "metadata": {},
   "outputs": [
    {
     "data": {
      "text/plain": [
       "104369"
      ]
     },
     "execution_count": 185,
     "metadata": {},
     "output_type": "execute_result"
    }
   ],
   "source": [
    "len(text)"
   ]
  },
  {
   "cell_type": "code",
   "execution_count": 186,
   "metadata": {},
   "outputs": [
    {
     "name": "stdout",
     "output_type": "stream",
     "text": [
      "майню\n",
      "{'тайно', 'марию', 'тайны', 'малую', 'майор', 'манию', 'тайн', 'марью'}\n",
      "\n",
      "\n",
      "николавеич\n",
      "{'николаич', 'николаевич'}\n",
      "\n",
      "\n",
      "неет\n",
      "{'нее', 'несет', 'нет'}\n",
      "\n",
      "\n",
      "проигровать\n",
      "None\n",
      "\n",
      "\n",
      "дерво\n",
      "{'дерево'}\n",
      "\n",
      "\n"
     ]
    }
   ],
   "source": [
    "# Build trie over corpus\n",
    "\n",
    "trie = Trie()\n",
    "\n",
    "for word in text:\n",
    "    trie.insert_word(word)\n",
    "\n",
    "# Find mistakes and typos\n",
    "\n",
    "for word in [\"майню\", \"николавеич\", \"неет\", \"проигровать\", \"дерво\"]:\n",
    "    print(word)\n",
    "    print(trie.find(word, 2))\n",
    "    print(\"\\n\")"
   ]
  },
  {
   "cell_type": "code",
   "execution_count": 176,
   "metadata": {},
   "outputs": [],
   "source": [
    "with open(\"htbg.txt\", \"r\") as f:\n",
    "    text = f.read()"
   ]
  },
  {
   "cell_type": "code",
   "execution_count": 177,
   "metadata": {},
   "outputs": [],
   "source": [
    "def text_to_wordlist(sentence):\n",
    "    regexp = \"[^а-яА-Яё]\"\n",
    "    sentence = re.sub(regexp, \" \", sentence)\n",
    "    return sentence.lower().split()"
   ]
  },
  {
   "cell_type": "code",
   "execution_count": 178,
   "metadata": {},
   "outputs": [
    {
     "data": {
      "text/plain": [
       "['аркадий',\n",
       " 'и',\n",
       " 'борис',\n",
       " 'стругацкие',\n",
       " 'трудно',\n",
       " 'быть',\n",
       " 'богом',\n",
       " 'то',\n",
       " 'были',\n",
       " 'дни']"
      ]
     },
     "execution_count": 178,
     "metadata": {},
     "output_type": "execute_result"
    }
   ],
   "source": [
    "text = text_to_wordlist(text)\n",
    "text[:10]"
   ]
  },
  {
   "cell_type": "code",
   "execution_count": 179,
   "metadata": {},
   "outputs": [
    {
     "name": "stdout",
     "output_type": "stream",
     "text": [
      "майню\n",
      "{'майку', 'тайны', 'камню', 'малую', 'мазью', 'майки', 'башню', 'тайн'}\n",
      "\n",
      "\n",
      "николавеич\n",
      "None\n",
      "\n",
      "\n",
      "неет\n",
      "{'нее', 'нет'}\n",
      "\n",
      "\n",
      "проигровать\n",
      "{'проиграть'}\n",
      "\n",
      "\n",
      "дерво\n",
      "{'дерево'}\n",
      "\n",
      "\n"
     ]
    }
   ],
   "source": [
    "# Build trie over corpus\n",
    "\n",
    "trie = Trie()\n",
    "\n",
    "for word in text:\n",
    "    trie.insert_word(word)\n",
    "\n",
    "# Find mistakes and typos\n",
    "\n",
    "for word in [\"майню\", \"николавеич\", \"неет\", \"проигровать\", \"дерво\"]:\n",
    "    print(word)\n",
    "    print(trie.find(word, allowed_mistakes_number=2))\n",
    "    print(\"\\n\")"
   ]
  },
  {
   "cell_type": "code",
   "execution_count": null,
   "metadata": {},
   "outputs": [],
   "source": []
  }
 ],
 "metadata": {
  "kernelspec": {
   "display_name": "Python 3",
   "language": "python",
   "name": "python3"
  },
  "language_info": {
   "codemirror_mode": {
    "name": "ipython",
    "version": 3
   },
   "file_extension": ".py",
   "mimetype": "text/x-python",
   "name": "python",
   "nbconvert_exporter": "python",
   "pygments_lexer": "ipython3",
   "version": "3.5.3"
  }
 },
 "nbformat": 4,
 "nbformat_minor": 2
}
