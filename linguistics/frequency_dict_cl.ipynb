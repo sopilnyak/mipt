{
 "cells": [
  {
   "cell_type": "markdown",
   "metadata": {},
   "source": [
    "# Задание по компьютерной лингвистике\n",
    "### Сопильняк Ольга, группа 495\n",
    "\n",
    "# Введение"
   ]
  },
  {
   "cell_type": "markdown",
   "metadata": {},
   "source": [
    "Для создания корпуса текстов используются следующие произведения Фёдора Михайловича Достоевского:\n",
    "* \"Преступление и наказание\"\n",
    "* \"Братья Карамазовы\"\n",
    "* \"Бедные люди\"\n",
    "* \"Бесы\"\n",
    "* \"Подросток\"\n",
    "\n",
    "В рамках работы с помощью библиотек NLTK и pymorphy2 был проведен частотный анализ лемм, словоформ, n-грамм словосочетаний и частей речи, а также грамматических категорий, встречающихся в текстах Достоевского. Описан алгоритм, который использует библиотека pymorphy2. Приведены некоторые выводы о возможных способах идентификации авторства на основе полученных данных. В конце задания сформулирован алгоритм формирования относительных придаточных предложений."
   ]
  },
  {
   "cell_type": "markdown",
   "metadata": {},
   "source": [
    "# Часть 1. Частотный словарь и закон Ципфа"
   ]
  },
  {
   "cell_type": "code",
   "execution_count": 256,
   "metadata": {
    "collapsed": true
   },
   "outputs": [],
   "source": [
    "import numpy as np\n",
    "import string\n",
    "import matplotlib.pyplot as plt\n",
    "import nltk\n",
    "from nltk.probability import FreqDist\n",
    "\n",
    "%matplotlib inline"
   ]
  },
  {
   "cell_type": "markdown",
   "metadata": {},
   "source": [
    "Прочитаем все файлы и запишем в одну строку, чтобы в дальнейшем было удобнее работать."
   ]
  },
  {
   "cell_type": "code",
   "execution_count": 145,
   "metadata": {
    "collapsed": false
   },
   "outputs": [],
   "source": [
    "def cat(filename):\n",
    "    with open(filename, 'r') as f:\n",
    "        return f.read().replace('\\n', '')"
   ]
  },
  {
   "cell_type": "code",
   "execution_count": 146,
   "metadata": {
    "collapsed": true
   },
   "outputs": [],
   "source": [
    "data = cat('dost1.txt')\n",
    "data += cat('dost2.txt')\n",
    "data += cat('dost3.txt')\n",
    "data += cat('dost4.txt')\n",
    "data += cat('dost5.txt')"
   ]
  },
  {
   "cell_type": "markdown",
   "metadata": {},
   "source": [
    "Разобъем текст на токены и уберем пунктуацию и прочие посторонние символы."
   ]
  },
  {
   "cell_type": "code",
   "execution_count": 147,
   "metadata": {
    "collapsed": false
   },
   "outputs": [],
   "source": [
    "words = nltk.word_tokenize(data)\n",
    "words = [word.lower() for word in words if word.isalpha()]  # remove punctuation"
   ]
  },
  {
   "cell_type": "code",
   "execution_count": 223,
   "metadata": {
    "collapsed": false
   },
   "outputs": [
    {
     "data": {
      "text/plain": [
       "933294"
      ]
     },
     "execution_count": 223,
     "metadata": {},
     "output_type": "execute_result"
    }
   ],
   "source": [
    "len(words)"
   ]
  },
  {
   "cell_type": "markdown",
   "metadata": {},
   "source": [
    "Достаточно много слов, корпус должен получиться неплохой."
   ]
  },
  {
   "cell_type": "code",
   "execution_count": 148,
   "metadata": {
    "collapsed": false
   },
   "outputs": [
    {
     "name": "stdout",
     "output_type": "stream",
     "text": [
      "['достоевский', 'преступление', 'и', 'наказание', 'часть', 'в', 'начале', 'июля', 'в', 'чрезвычайно', 'жаркое', 'время', 'под', 'вечер', 'один', 'молодой', 'человек', 'вышел', 'из', 'своей', 'каморки', 'которую', 'нанимал', 'от', 'жильцов', 'в', 'переулке', 'на', 'улицу', 'и', 'медленно', 'как', 'бы', 'в', 'нерешимости', 'отправился', 'к', 'мосту', 'он', 'благополучно', 'избегнул', 'встречи', 'с', 'своею', 'хозяйкой', 'на', 'лестнице', 'каморка', 'его', 'приходилась', 'под', 'самою', 'кровлей', 'высокого', 'пятиэтажного', 'дома', 'и', 'походила', 'более', 'на', 'шкаф', 'чем', 'на', 'квартиру', 'квартирная', 'же', 'хозяйка', 'его', 'у', 'которой', 'он', 'нанимал', 'эту', 'каморку', 'с', 'обедом', 'и', 'прислугой', 'помещалась', 'одною', 'лестницей', 'ниже', 'в', 'отдельной', 'квартире', 'и', 'каждый', 'раз', 'при', 'выходе', 'на', 'улицу', 'ему', 'непременно', 'надо', 'было', 'проходить', 'мимо', 'хозяйкиной', 'кухни']\n"
     ]
    }
   ],
   "source": [
    "print(words[:100])"
   ]
  },
  {
   "cell_type": "markdown",
   "metadata": {},
   "source": [
    "### Библиотека pymorphy2\n",
    "\n",
    "В NLTK лемматизатора для русского языка нет, поэтому будем использовать библиотеку pymorphy2. Она использует словари OpenCorpora, в которой для каждого слова имеются его лексемы.\n",
    "\n",
    "В общих чертах лемматизатор pymorphy2 работает так: \n",
    "\n",
    "* каждое слово можно разбить на префикс + стем + окончание\n",
    "* если откинуть стем, можно получить набор правил\n",
    "* для каждой лексемы определяется ее парадигма и удаляются дубликаты\n",
    "* хранятся только парадигмы и информация о том, по какой парадигме слово изменяется\n",
    "* для парадигм используется числовое представление для компактности\n",
    "\n",
    "Если по словарю слово найти нельзя, то в дело идут правила разбора несловарных слов: \n",
    "* отсечение неизвестных префиксов\n",
    "* предсказание по концу слова (когда отсечение префиксов использовать нельзя: правая часть неизвестна либо приставка влияет на разбор)"
   ]
  },
  {
   "cell_type": "code",
   "execution_count": null,
   "metadata": {
    "collapsed": false
   },
   "outputs": [],
   "source": [
    "!pip3 install pymorphy2\n",
    "!pip install -U pymorphy2-dicts-ru"
   ]
  },
  {
   "cell_type": "code",
   "execution_count": 149,
   "metadata": {
    "collapsed": true
   },
   "outputs": [],
   "source": [
    "import pymorphy2"
   ]
  },
  {
   "cell_type": "markdown",
   "metadata": {},
   "source": [
    "Применим лемматизатор pymorphy2 и посмотрим, что получается. Однако, недостаток такого разбора -- отсутствие снятия омонимии. Библиотека pymorphy2 выдает все возможные разборы слова и, согласно документации pymorphy2, наиболее вероятный разбор (первый в списке) верен примерно в 79% случаев.\n",
    "\n",
    "Вероятность правильности разбора определяется как условная вероятность P(tag|word). Она оценивается на основе корпуса OpenCorpora: ищутся все неоднозначные слова со снятой неоднозначностью, для каждого слова считается, сколько раз ему был сопоставлен данный тег, и на основе этих частот вычисляется условная вероятность тега."
   ]
  },
  {
   "cell_type": "code",
   "execution_count": 150,
   "metadata": {
    "collapsed": false
   },
   "outputs": [
    {
     "name": "stdout",
     "output_type": "stream",
     "text": [
      "достоевский -> достоевский\n",
      "преступление -> преступление\n",
      "и -> и\n",
      "наказание -> наказание\n",
      "часть -> часть\n",
      "в -> в\n",
      "начале -> начало\n",
      "июля -> июль\n",
      "в -> в\n",
      "чрезвычайно -> чрезвычайно\n",
      "жаркое -> жаркое\n",
      "время -> время\n",
      "под -> под\n",
      "вечер -> вечер\n",
      "один -> один\n",
      "молодой -> молодая\n",
      "человек -> человек\n",
      "вышел -> выйти\n",
      "из -> из\n",
      "своей -> свой\n",
      "каморки -> каморка\n",
      "которую -> который\n",
      "нанимал -> нанимать\n",
      "от -> от\n",
      "жильцов -> жильцов\n",
      "в -> в\n",
      "переулке -> переулок\n",
      "на -> на\n",
      "улицу -> улица\n",
      "и -> и\n",
      "медленно -> медленно\n",
      "как -> как\n",
      "бы -> бы\n",
      "в -> в\n",
      "нерешимости -> нерешимость\n",
      "отправился -> отправиться\n",
      "к -> к\n",
      "мосту -> мост\n",
      "он -> он\n",
      "благополучно -> благополучно\n",
      "избегнул -> избегнуть\n",
      "встречи -> встреча\n",
      "с -> с\n",
      "своею -> свой\n",
      "хозяйкой -> хозяйка\n",
      "на -> на\n",
      "лестнице -> лестница\n",
      "каморка -> каморка\n",
      "его -> он\n",
      "приходилась -> приходиться\n"
     ]
    }
   ],
   "source": [
    "morph = pymorphy2.MorphAnalyzer()\n",
    "for word in words[:50]:\n",
    "    print(word + \" -> \" + morph.parse(word)[0].normal_form)"
   ]
  },
  {
   "cell_type": "markdown",
   "metadata": {},
   "source": [
    "Получается вполне хорошо, поэтому применим алгоритм ко всем словам в списке слов."
   ]
  },
  {
   "cell_type": "code",
   "execution_count": 151,
   "metadata": {
    "collapsed": false
   },
   "outputs": [],
   "source": [
    "words_lemmatized = [morph.parse(word)[0].normal_form for word in words]"
   ]
  },
  {
   "cell_type": "markdown",
   "metadata": {},
   "source": [
    "Теперь построим по этим данным частотный словарь и запишем его в файл."
   ]
  },
  {
   "cell_type": "code",
   "execution_count": 290,
   "metadata": {
    "collapsed": false
   },
   "outputs": [],
   "source": [
    "def find_freq_dict(wordlist):\n",
    "    \n",
    "    dictionary = FreqDist(wordlist)\n",
    "    \n",
    "    import operator\n",
    "    dictionary = sorted(dictionary.items(), key=operator.itemgetter(1), reverse=True)\n",
    "\n",
    "    for i in range(len(dictionary)):\n",
    "        dictionary[i] = (dictionary[i][0], dictionary[i][1] / len(wordlist))\n",
    "        \n",
    "    return dictionary"
   ]
  },
  {
   "cell_type": "code",
   "execution_count": 291,
   "metadata": {
    "collapsed": false
   },
   "outputs": [],
   "source": [
    "dictionary = find_freq_dict(words_lemmatized)"
   ]
  },
  {
   "cell_type": "code",
   "execution_count": 293,
   "metadata": {
    "collapsed": false
   },
   "outputs": [
    {
     "name": "stdout",
     "output_type": "stream",
     "text": [
      "[('и', 0.047514502396886725), ('я', 0.02795046362668141), ('в', 0.02616110250360551), ('он', 0.026023953866627238), ('не', 0.023119188594376477), ('что', 0.020050487841987628), ('быть', 0.014209884559420719), ('с', 0.013773794752778868), ('на', 0.012389450698279427), ('весь', 0.011901930152770725), ('вы', 0.010602232522656312), ('это', 0.010396509567188903), ('а', 0.009728981435646216), ('она', 0.009473970688764741), ('как', 0.009110741095517598), ('но', 0.00806926863346384), ('к', 0.00654134709962777), ('же', 0.0064481288854316005), ('так', 0.00614490182086245), ('тот', 0.005446300951254374)]\n"
     ]
    }
   ],
   "source": [
    "print(dictionary[:20])"
   ]
  },
  {
   "cell_type": "code",
   "execution_count": 294,
   "metadata": {
    "collapsed": false
   },
   "outputs": [],
   "source": [
    "output = open('out_freq.txt', 'w', encoding=\"utf-8\")\n",
    "output.write('%s' % dictionary[:1000])\n",
    "output.close()"
   ]
  },
  {
   "cell_type": "markdown",
   "metadata": {},
   "source": [
    "Проверим, выполняется ли закон Ципфа: частота слов обратно пропорциональна их индексам в отсортированном частотном словаре."
   ]
  },
  {
   "cell_type": "code",
   "execution_count": 295,
   "metadata": {
    "collapsed": false
   },
   "outputs": [
    {
     "data": {
      "image/png": "[encoded data removed]",
      "text/plain": [
       "<matplotlib.figure.Figure at 0x7fb8db6aacc0>"
      ]
     },
     "metadata": {},
     "output_type": "display_data"
    }
   ],
   "source": [
    "plt.figure(figsize=(16, 10))\n",
    "plt.plot([dictionary[i][1] for i in range(len(dictionary))], label='real')\n",
    "plt.plot([0.1 / i for i in range(1, len(dictionary))], label='Zipf\\'s law')\n",
    "plt.ylim(ymax=0.01)\n",
    "plt.legend()\n",
    "plt.show()"
   ]
  },
  {
   "cell_type": "markdown",
   "metadata": {},
   "source": [
    "Из графика видно, что примерное совпадение наблюдается."
   ]
  },
  {
   "cell_type": "markdown",
   "metadata": {},
   "source": [
    "# Часть 2. N-граммы на уровне словосочетаний"
   ]
  },
  {
   "cell_type": "markdown",
   "metadata": {},
   "source": [
    "Теперь построим n-граммы (для n = 3, n = 4) словосочетаний, встречающихся в тексте."
   ]
  },
  {
   "cell_type": "code",
   "execution_count": 296,
   "metadata": {
    "collapsed": true
   },
   "outputs": [],
   "source": [
    "def find_ngrams_statistics(words_array, n, is_freq=True):\n",
    "    \n",
    "    from nltk import ngrams\n",
    "    \n",
    "    sentence_pos = ' '.join(str(word) for word in words_array)\n",
    "    \n",
    "    sixgrams = ngrams(sentence_pos.split(), n)\n",
    "    ngrams = []\n",
    "    for grams in sixgrams:\n",
    "        ngrams.append(' '.join(grams))\n",
    "    \n",
    "    ngrams_statistics = {}\n",
    "\n",
    "    for ngram in ngrams:\n",
    "        if not ngram in ngrams_statistics:\n",
    "            ngrams_statistics.update({ngram : 1})\n",
    "        else:\n",
    "            ngram_occurrences = ngrams_statistics[ngram]\n",
    "            ngrams_statistics.update({ngram : ngram_occurrences + 1})\n",
    "            \n",
    "    import operator\n",
    "    ngrams_statistics_sorted = sorted(ngrams_statistics.items(), \\\n",
    "                               key=operator.itemgetter(1), \\\n",
    "                               reverse=True)\n",
    "    \n",
    "    if is_freq:\n",
    "        ngrams_statistics_sorted = [(number[0], number[1] / len(ngrams)) \n",
    "                                for number in ngrams_statistics_sorted]\n",
    "\n",
    "    return ngrams_statistics_sorted"
   ]
  },
  {
   "cell_type": "markdown",
   "metadata": {},
   "source": [
    "n = 3"
   ]
  },
  {
   "cell_type": "code",
   "execution_count": 322,
   "metadata": {
    "collapsed": true
   },
   "outputs": [],
   "source": [
    "ngrams = find_ngrams_statistics(words, n=3)"
   ]
  },
  {
   "cell_type": "code",
   "execution_count": 323,
   "metadata": {
    "collapsed": false
   },
   "outputs": [
    {
     "data": {
      "text/plain": [
       "[('по крайней мере', 0.00032358575879788963),\n",
       " ('в самом деле', 0.00026465457755986334),\n",
       " ('до сих пор', 0.00024858243722221987),\n",
       " ('в том что', 0.0002057233963218371),\n",
       " ('а между тем', 0.0001917942080292127),\n",
       " ('в то же', 0.00017465059166905963),\n",
       " ('может быть и', 0.00017465059166905963),\n",
       " ('о том что', 0.00017357911564655007),\n",
       " ('к тому же', 0.00017036468757902136),\n",
       " ('и как бы', 0.00016179287939894482)]"
      ]
     },
     "execution_count": 323,
     "metadata": {},
     "output_type": "execute_result"
    }
   ],
   "source": [
    "ngrams[:10]"
   ]
  },
  {
   "cell_type": "code",
   "execution_count": 324,
   "metadata": {
    "collapsed": true
   },
   "outputs": [],
   "source": [
    "output = open('out_3grams.txt', 'w', encoding=\"utf-8\")\n",
    "output.write('%s' % ngrams[:1000])\n",
    "output.close()"
   ]
  },
  {
   "cell_type": "markdown",
   "metadata": {},
   "source": [
    "n = 4"
   ]
  },
  {
   "cell_type": "code",
   "execution_count": 161,
   "metadata": {
    "collapsed": true
   },
   "outputs": [],
   "source": [
    "ngrams = find_ngrams_statistics(words, n=4)"
   ]
  },
  {
   "cell_type": "code",
   "execution_count": 162,
   "metadata": {
    "collapsed": false
   },
   "outputs": [
    {
     "data": {
      "text/plain": [
       "[('в то же время', 0.0001542927125623198),\n",
       " ('несмотря на то что', 8.464669647516155e-05),\n",
       " ('ни за что не', 7.39319247694449e-05),\n",
       " ('и в то же', 6.964601608715823e-05),\n",
       " ('и в самом деле', 6.536010740487157e-05),\n",
       " ('до сих пор не', 4.92879498462966e-05),\n",
       " ('соч в т с', 4.714499550515327e-05),\n",
       " ('собр соч в т', 4.393056399343828e-05),\n",
       " ('дело в том что', 4.285908682286661e-05),\n",
       " ('с там же с', 3.964465531115161e-05)]"
      ]
     },
     "execution_count": 162,
     "metadata": {},
     "output_type": "execute_result"
    }
   ],
   "source": [
    "ngrams[:10]"
   ]
  },
  {
   "cell_type": "code",
   "execution_count": 222,
   "metadata": {
    "collapsed": true
   },
   "outputs": [],
   "source": [
    "output = open('out_4grams.txt', 'w', encoding=\"utf-8\")\n",
    "output.write('%s' % ngrams[:1000])\n",
    "output.close()"
   ]
  },
  {
   "cell_type": "markdown",
   "metadata": {},
   "source": [
    "# Часть 3. N-граммы на уровне частей речи"
   ]
  },
  {
   "cell_type": "markdown",
   "metadata": {},
   "source": [
    "Библиотека pymorphy2, основываясь на данных OpenCorpora, позволяет определить часть речи слова. Построим n-граммы по этим данным."
   ]
  },
  {
   "cell_type": "code",
   "execution_count": null,
   "metadata": {
    "collapsed": true
   },
   "outputs": [],
   "source": [
    "tags = [morph.parse(word)[0].tag for word in words]"
   ]
  },
  {
   "cell_type": "code",
   "execution_count": 164,
   "metadata": {
    "collapsed": false
   },
   "outputs": [
    {
     "name": "stdout",
     "output_type": "stream",
     "text": [
      "достоевский -> NOUN\n",
      "преступление -> NOUN\n",
      "и -> CONJ\n",
      "наказание -> NOUN\n",
      "часть -> NOUN\n",
      "в -> PREP\n",
      "начале -> NOUN\n",
      "июля -> NOUN\n",
      "в -> PREP\n",
      "чрезвычайно -> ADVB\n",
      "жаркое -> NOUN\n",
      "время -> NOUN\n",
      "под -> PREP\n",
      "вечер -> NOUN\n",
      "один -> ADJF\n",
      "молодой -> NOUN\n",
      "человек -> NOUN\n",
      "вышел -> VERB\n",
      "из -> PREP\n",
      "своей -> ADJF\n"
     ]
    }
   ],
   "source": [
    "for word in words[:20]:\n",
    "    print(word + \" -> \" + morph.parse(word)[0].tag.POS)"
   ]
  },
  {
   "cell_type": "code",
   "execution_count": 178,
   "metadata": {
    "collapsed": false
   },
   "outputs": [],
   "source": [
    "pos = [tag.POS for tag in tags]"
   ]
  },
  {
   "cell_type": "code",
   "execution_count": 179,
   "metadata": {
    "collapsed": false
   },
   "outputs": [],
   "source": [
    "def find_ngrams_statistics(words_array, n, is_freq=True):\n",
    "    \n",
    "    from nltk import ngrams\n",
    "    \n",
    "    sentence_pos = ' '.join(str(word) for word in words_array)\n",
    "    \n",
    "    sixgrams = ngrams(sentence_pos.split(), n)\n",
    "    ngrams = []\n",
    "    for grams in sixgrams:\n",
    "        ngrams.append(' '.join(grams))\n",
    "    \n",
    "    ngrams_statistics = {}\n",
    "\n",
    "    for ngram in ngrams:\n",
    "        if not ngram in ngrams_statistics:\n",
    "            ngrams_statistics.update({ngram : 1})\n",
    "        else:\n",
    "            ngram_occurrences = ngrams_statistics[ngram]\n",
    "            ngrams_statistics.update({ngram : ngram_occurrences + 1})\n",
    "            \n",
    "    import operator\n",
    "    ngrams_statistics_sorted = sorted(ngrams_statistics.items(), \\\n",
    "                               key=operator.itemgetter(1), \\\n",
    "                               reverse=True)\n",
    "    \n",
    "    if is_freq:\n",
    "        ngrams_statistics_sorted = [(number[0], number[1] / len(ngrams)) \n",
    "                                for number in ngrams_statistics_sorted]\n",
    "\n",
    "    return ngrams_statistics_sorted"
   ]
  },
  {
   "cell_type": "code",
   "execution_count": 180,
   "metadata": {
    "collapsed": false
   },
   "outputs": [],
   "source": [
    "ngrams_statistics = find_ngrams_statistics(pos, 3)"
   ]
  },
  {
   "cell_type": "code",
   "execution_count": 181,
   "metadata": {
    "collapsed": false
   },
   "outputs": [
    {
     "data": {
      "text/plain": [
       "[('PREP ADJF NOUN', 0.015923205170514695),\n",
       " ('NOUN PREP NOUN', 0.012606986880847581),\n",
       " ('ADJF NOUN CONJ', 0.010029015570689559),\n",
       " ('PREP NOUN NOUN', 0.009711858668026726),\n",
       " ('VERB PREP NOUN', 0.009374343720936212),\n",
       " ('NOUN NOUN NOUN', 0.00921040788949225),\n",
       " ('PREP NOUN CONJ', 0.00848716157429829),\n",
       " ('ADJF NOUN NOUN', 0.00799213965189887),\n",
       " ('NOUN ADJF NOUN', 0.007909635998165633),\n",
       " ('NOUN PREP ADJF', 0.007500332157566978),\n",
       " ('ADJF ADJF NOUN', 0.007443543928373971),\n",
       " ('ADJF NOUN PREP', 0.00702352532755022),\n",
       " ('ADJF NOUN VERB', 0.006806015694980778),\n",
       " ('NOUN NOUN CONJ', 0.006531717833218328),\n",
       " ('NOUN NOUN VERB', 0.006466357795845245),\n",
       " ('NOUN CONJ NOUN', 0.006275635063838541),\n",
       " ('PREP NOUN VERB', 0.005795613805754255),\n",
       " ('CONJ NPRO VERB', 0.005537388084329449),\n",
       " ('PREP NOUN PREP', 0.005384167013110581),\n",
       " ('ADJF NOUN ADJF', 0.005326307307895064)]"
      ]
     },
     "execution_count": 181,
     "metadata": {},
     "output_type": "execute_result"
    }
   ],
   "source": [
    "ngrams_statistics[:20]"
   ]
  },
  {
   "cell_type": "code",
   "execution_count": 182,
   "metadata": {
    "collapsed": false
   },
   "outputs": [],
   "source": [
    "output = open('out_ngrams_pos.txt', 'w', encoding=\"utf-8\")\n",
    "output.write('%s' % ngrams_statistics[:1000])\n",
    "output.close()"
   ]
  },
  {
   "cell_type": "markdown",
   "metadata": {},
   "source": [
    "# Часть 4. Статистика по различным грамматическим значениям"
   ]
  },
  {
   "cell_type": "markdown",
   "metadata": {},
   "source": [
    "### Падеж"
   ]
  },
  {
   "cell_type": "code",
   "execution_count": 297,
   "metadata": {
    "collapsed": false
   },
   "outputs": [],
   "source": [
    "case = [tag.case for tag in tags]\n",
    "case = list(filter(lambda a: a != None, case))\n",
    "dict_case = find_freq_dict(case)"
   ]
  },
  {
   "cell_type": "code",
   "execution_count": 298,
   "metadata": {
    "collapsed": false
   },
   "outputs": [
    {
     "data": {
      "text/plain": [
       "[('nomn', 0.39883146203005815),\n",
       " ('gent', 0.2428336542957849),\n",
       " ('accs', 0.1357822014169277),\n",
       " ('datv', 0.08235075246001378),\n",
       " ('ablt', 0.07285763848733665),\n",
       " ('loct', 0.06296730205499772),\n",
       " ('loc2', 0.002026337357515298),\n",
       " ('gen2', 0.0013173706890049828),\n",
       " ('voct', 0.0010332812083607785)]"
      ]
     },
     "execution_count": 298,
     "metadata": {},
     "output_type": "execute_result"
    }
   ],
   "source": [
    "dict_case[:20]"
   ]
  },
  {
   "cell_type": "code",
   "execution_count": 299,
   "metadata": {
    "collapsed": false
   },
   "outputs": [],
   "source": [
    "output = open('out_case.txt', 'w', encoding=\"utf-8\")\n",
    "output.write('%s' % dict_case[:1000])\n",
    "output.close()"
   ]
  },
  {
   "cell_type": "markdown",
   "metadata": {},
   "source": [
    "Преобладает именительный падеж. Как покажет позже сравнение с другими авторами, это скорее особенность языка, а не автора."
   ]
  },
  {
   "cell_type": "markdown",
   "metadata": {},
   "source": [
    "### Время"
   ]
  },
  {
   "cell_type": "code",
   "execution_count": 300,
   "metadata": {
    "collapsed": false
   },
   "outputs": [],
   "source": [
    "tense = [tag.tense for tag in tags]\n",
    "tense = list(filter(lambda a: a != None, tense))\n",
    "dict_tense = find_freq_dict(tense)"
   ]
  },
  {
   "cell_type": "code",
   "execution_count": 301,
   "metadata": {
    "collapsed": false
   },
   "outputs": [
    {
     "data": {
      "text/plain": [
       "[('past', 0.6401405628238528),\n",
       " ('pres', 0.2675918238813661),\n",
       " ('futr', 0.09226761329478114)]"
      ]
     },
     "execution_count": 301,
     "metadata": {},
     "output_type": "execute_result"
    }
   ],
   "source": [
    "dict_tense[:20]"
   ]
  },
  {
   "cell_type": "code",
   "execution_count": 302,
   "metadata": {
    "collapsed": true
   },
   "outputs": [],
   "source": [
    "output = open('out_tense.txt', 'w', encoding=\"utf-8\")\n",
    "output.write('%s' % dict_tense[:1000])\n",
    "output.close()"
   ]
  },
  {
   "cell_type": "markdown",
   "metadata": {},
   "source": [
    "Тут преобладает прошедшее время. Это, во-первых, можно объяснить жанром (все выбранные произведения Достоевского -- романы), а во-вторых, можно списать на авторскую специфику."
   ]
  },
  {
   "cell_type": "markdown",
   "metadata": {},
   "source": [
    "### Род"
   ]
  },
  {
   "cell_type": "code",
   "execution_count": 306,
   "metadata": {
    "collapsed": false
   },
   "outputs": [],
   "source": [
    "gender = [tag.gender for tag in tags]\n",
    "gender = list(filter(lambda a: a != None, gender))\n",
    "dict_gender = find_freq_dict(gender)"
   ]
  },
  {
   "cell_type": "code",
   "execution_count": 307,
   "metadata": {
    "collapsed": false
   },
   "outputs": [
    {
     "data": {
      "text/plain": [
       "[('masc', 0.513381864623244),\n",
       " ('femn', 0.3059693486590038),\n",
       " ('neut', 0.18064878671775222)]"
      ]
     },
     "execution_count": 307,
     "metadata": {},
     "output_type": "execute_result"
    }
   ],
   "source": [
    "dict_gender[:20]"
   ]
  },
  {
   "cell_type": "code",
   "execution_count": 308,
   "metadata": {
    "collapsed": true
   },
   "outputs": [],
   "source": [
    "output = open('out_gender.txt', 'w', encoding=\"utf-8\")\n",
    "output.write('%s' % dict_gender[:1000])\n",
    "output.close()"
   ]
  },
  {
   "cell_type": "markdown",
   "metadata": {},
   "source": [
    "51% -- мужской род, 31% -- женский, 18% -- средний."
   ]
  },
  {
   "cell_type": "markdown",
   "metadata": {},
   "source": [
    "### Залог"
   ]
  },
  {
   "cell_type": "code",
   "execution_count": 310,
   "metadata": {
    "collapsed": true
   },
   "outputs": [],
   "source": [
    "voice = [tag.voice for tag in tags]\n",
    "voice = list(filter(lambda a: a != None, voice))\n",
    "dict_voice = find_freq_dict(voice)"
   ]
  },
  {
   "cell_type": "code",
   "execution_count": 311,
   "metadata": {
    "collapsed": false
   },
   "outputs": [
    {
     "data": {
      "text/plain": [
       "[('pssv', 0.5812000819168543), ('actv', 0.4187999180831456)]"
      ]
     },
     "execution_count": 311,
     "metadata": {},
     "output_type": "execute_result"
    }
   ],
   "source": [
    "dict_voice[:20]"
   ]
  },
  {
   "cell_type": "code",
   "execution_count": 312,
   "metadata": {
    "collapsed": true
   },
   "outputs": [],
   "source": [
    "output = open('out_voice.txt', 'w', encoding=\"utf-8\")\n",
    "output.write('%s' % dict_voice[:1000])\n",
    "output.close()"
   ]
  },
  {
   "cell_type": "markdown",
   "metadata": {},
   "source": [
    "На основе этой характеристики также можно анализировать специфику автора: 58% пассивного залога, 42% -- активного."
   ]
  },
  {
   "cell_type": "markdown",
   "metadata": {},
   "source": [
    "### Включенность говорящего в действие"
   ]
  },
  {
   "cell_type": "code",
   "execution_count": 313,
   "metadata": {
    "collapsed": true
   },
   "outputs": [],
   "source": [
    "involvement = [tag.involvement for tag in tags]\n",
    "involvement = list(filter(lambda a: a != None, involvement))\n",
    "dict_involvement = find_freq_dict(involvement)"
   ]
  },
  {
   "cell_type": "code",
   "execution_count": 314,
   "metadata": {
    "collapsed": false
   },
   "outputs": [
    {
     "data": {
      "text/plain": [
       "[('excl', 0.9885553159727981), ('incl', 0.011444684027201857)]"
      ]
     },
     "execution_count": 314,
     "metadata": {},
     "output_type": "execute_result"
    }
   ],
   "source": [
    "dict_involvement[:20]"
   ]
  },
  {
   "cell_type": "code",
   "execution_count": 315,
   "metadata": {
    "collapsed": true
   },
   "outputs": [],
   "source": [
    "output = open('out_involvement.txt', 'w', encoding=\"utf-8\")\n",
    "output.write('%s' % dict_involvement[:1000])\n",
    "output.close()"
   ]
  },
  {
   "cell_type": "markdown",
   "metadata": {},
   "source": [
    "### Лицо"
   ]
  },
  {
   "cell_type": "code",
   "execution_count": 316,
   "metadata": {
    "collapsed": false
   },
   "outputs": [],
   "source": [
    "person = [tag.person for tag in tags]\n",
    "person = list(filter(lambda a: a != None, person))\n",
    "dict_person = find_freq_dict(person)"
   ]
  },
  {
   "cell_type": "code",
   "execution_count": 317,
   "metadata": {
    "collapsed": false
   },
   "outputs": [
    {
     "data": {
      "text/plain": [
       "[('3per', 0.4696981059753852),\n",
       " ('1per', 0.35294852886033545),\n",
       " ('2per', 0.17735336516427935)]"
      ]
     },
     "execution_count": 317,
     "metadata": {},
     "output_type": "execute_result"
    }
   ],
   "source": [
    "dict_person[:20]"
   ]
  },
  {
   "cell_type": "code",
   "execution_count": 318,
   "metadata": {
    "collapsed": true
   },
   "outputs": [],
   "source": [
    "output = open('out_person.txt', 'w', encoding=\"utf-8\")\n",
    "output.write('%s' % dict_person[:1000])\n",
    "output.close()"
   ]
  },
  {
   "cell_type": "markdown",
   "metadata": {},
   "source": [
    "Здесь опять же скорее специфика жанра: мало диалогов и много описаний, поэтому преобладает третье лицо."
   ]
  },
  {
   "cell_type": "markdown",
   "metadata": {},
   "source": [
    "### Одушевленность"
   ]
  },
  {
   "cell_type": "code",
   "execution_count": 319,
   "metadata": {
    "collapsed": true
   },
   "outputs": [],
   "source": [
    "animacy = [tag.animacy for tag in tags]\n",
    "animacy = list(filter(lambda a: a != None, animacy))\n",
    "dict_animacy = find_freq_dict(animacy)"
   ]
  },
  {
   "cell_type": "code",
   "execution_count": 320,
   "metadata": {
    "collapsed": false
   },
   "outputs": [
    {
     "data": {
      "text/plain": [
       "[('inan', 0.6859975303232488), ('anim', 0.31400246967675116)]"
      ]
     },
     "execution_count": 320,
     "metadata": {},
     "output_type": "execute_result"
    }
   ],
   "source": [
    "dict_animacy[:20]"
   ]
  },
  {
   "cell_type": "code",
   "execution_count": 321,
   "metadata": {
    "collapsed": true
   },
   "outputs": [],
   "source": [
    "output = open('out_animacy.txt', 'w', encoding=\"utf-8\")\n",
    "output.write('%s' % dict_animacy[:1000])\n",
    "output.close()"
   ]
  },
  {
   "cell_type": "markdown",
   "metadata": {},
   "source": [
    "Вполне вероятно, что эта грамматическая категория не несет много информации."
   ]
  },
  {
   "cell_type": "markdown",
   "metadata": {},
   "source": [
    "# Часть 5. Сравнение с другими авторами и выводы о возможных способах идентификации авторства"
   ]
  },
  {
   "cell_type": "markdown",
   "metadata": {},
   "source": [
    "Было проведено сравнение с корпусами текстов А.С. Грибоедова (Ирина Гавенко) и М.Е. Салтыкова-Щедрина (Павел Воропаев).\n",
    "\n",
    "### Частота лексем\n",
    "\n",
    "Список наиболее часто встречающихся лексем у всех авторов практически совпадает со аналогичным общим списком для русского языка, поэтому такой признак вряд ли можно использовать для идентификации авторства. Однако, интерес могут представлять частотные словари с отсечением наиболее часто встречающихся слов (предлогов, личных местоимений и пр.)\n",
    "\n",
    "### N-граммы на уровне словосочетаний\n",
    "\n",
    "Хорошо заметна авторская специфика: уникальные наиболее часто встречающиеся словосочетания. Для Достоевского это \"может быть и\", \"в самом деле\", \"несмотря на то что\". Для Салтыкова-Щедрина -- \"с одной стороны\", \"с другой стороны\", \"тем не менее\", \"не только не\", \"до такой степени\". Также встречаются и общие, часто встречающиеся в русском языке как таковом: \"по крайней мере\", \"в то же время\". Для Грибоедова данные могут быть испорчены небольшим объемом корпуса, но прослеживаются часто встречающиеся разговорные выражения: \"ах боже мой\", \"ха ха ха\", \"с ума сошел\", а также характерное для пьесы \"в сторону\".\n",
    "\n",
    "Однако, для идентификации авторства одного (возможно, небольшого) произведения такой способ может не подойти, потому что часто употребляемые автором выражения заметны только на достаточно больших данных.\n",
    "\n",
    "\n",
    "### N-граммы на уровне частей речи\n",
    "\n",
    "Здесь встречаемость у Достоевского и Салтыкова-Щедрина почти совпадает, а у Грибоедова отличается: он гораздо реже использует такую, казалось бы, часто встречающуюся конструкцию, как \"прилагательное - существительное\" или \"предлог - прилагательное - сущестительное\", заменяя его \"существительное - предлог - существительное\" и 3 существительных подряд.\n",
    "\n",
    "### Статистика по различным грамматическим значениям\n",
    "\n",
    "Встречаемость **падежей** практически совпадает, поэтому скорее всего этот параметр нельзя использовать для идентификации авторства.\n",
    "\n",
    "У Достоевского преобладает прошедшее **время**, у Грибоедова -- настоящее. Так как Достоевский писал романы, а Грибоедов -- пьесы, это легко объясняется. А вот у Салтыкова-Щедрина, хотя тоже преобладает прошедшее время, его меньше, чем у Достоевского, это можно объяснить авторством.\n",
    "\n",
    "**Род** тоже практически совпадает: это тоже можно объяснить особенностями языка.\n",
    "\n",
    "Соотношение пассивного и активного **залогов** у Достоевского и Грибоедова сильно различаются, причем, как ни странно, у Достоевского они встречаются почти в равной степени, а у Грибоедова сильно преобладает пассивный.\n",
    "\n",
    "**Лицо** -- скорее всего особенность жанра: в пьесе из-за большого количества диалогов первое лицо встречается чаще. У Салтыкова больше третьего лица, чем у Достоевского, хотя у обоих третье лицо преобладает.\n",
    "\n",
    "### Выводы\n",
    "\n",
    "К признакам, позволяющим идентифицировать авторство, можно отнести время и залог, а также наиболее часто встречающиеся n-граммы по леммам, словоформам и частям речи."
   ]
  },
  {
   "cell_type": "markdown",
   "metadata": {},
   "source": [
    "# Часть 6. Алгоритм формирования относительных придаточных предложений"
   ]
  },
  {
   "cell_type": "markdown",
   "metadata": {},
   "source": [
    "* Сделать главным слово, относительно которого происходит формирование относительного придаточного;\n",
    "* добавить относительное местоимение после главного и построить зависимость от главного слова к нему;\n",
    "* слово, которое было главным до применения алгоритма, поставить после относительного местоимения и построить зависимость от относительного местоимения к нему;\n",
    "* непосредственно зависимое от него поставить следующим.\n",
    "\n",
    "\"Джек построил дом\" -> \"Дом, который построил Джек\""
   ]
  }
 ],
 "metadata": {
  "kernelspec": {
   "display_name": "Python 3",
   "language": "python",
   "name": "python3"
  },
  "language_info": {
   "codemirror_mode": {
    "name": "ipython",
    "version": 3
   },
   "file_extension": ".py",
   "mimetype": "text/x-python",
   "name": "python",
   "nbconvert_exporter": "python",
   "pygments_lexer": "ipython3",
   "version": "3.4.2"
  }
 },
 "nbformat": 4,
 "nbformat_minor": 0
}
